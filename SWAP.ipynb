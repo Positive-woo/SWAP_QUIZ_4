{
 "cells": [
  {
   "cell_type": "markdown",
   "id": "7a8b9b24-f64d-4cde-8d28-a0eb5e42e169",
   "metadata": {},
   "source": [
    "## 마지막 퀴즈 정리"
   ]
  },
  {
   "cell_type": "code",
   "execution_count": 36,
   "id": "1176ef6e-86a5-43e1-90d9-4e191e104a6a",
   "metadata": {},
   "outputs": [
    {
     "name": "stdout",
     "output_type": "stream",
     "text": [
      "-4776.708079274707\n"
     ]
    },
    {
     "data": {
      "text/html": [
       "<div>\n",
       "<style scoped>\n",
       "    .dataframe tbody tr th:only-of-type {\n",
       "        vertical-align: middle;\n",
       "    }\n",
       "\n",
       "    .dataframe tbody tr th {\n",
       "        vertical-align: top;\n",
       "    }\n",
       "\n",
       "    .dataframe thead th {\n",
       "        text-align: right;\n",
       "    }\n",
       "</style>\n",
       "<table border=\"1\" class=\"dataframe\">\n",
       "  <thead>\n",
       "    <tr style=\"text-align: right;\">\n",
       "      <th></th>\n",
       "      <th>Date</th>\n",
       "      <th>Date_lag</th>\n",
       "      <th>Days_diff</th>\n",
       "      <th>DF</th>\n",
       "      <th>DF_Lag</th>\n",
       "      <th>ForwardRate</th>\n",
       "      <th>CF_float</th>\n",
       "      <th>CF_float_PV</th>\n",
       "      <th>CF_fixed</th>\n",
       "      <th>CF_fixed_PV</th>\n",
       "    </tr>\n",
       "  </thead>\n",
       "  <tbody>\n",
       "    <tr>\n",
       "      <th>0</th>\n",
       "      <td>2023-05-10</td>\n",
       "      <td>NaT</td>\n",
       "      <td>NaN</td>\n",
       "      <td>1.000000</td>\n",
       "      <td>NaN</td>\n",
       "      <td>NaN</td>\n",
       "      <td>NaN</td>\n",
       "      <td>NaN</td>\n",
       "      <td>NaN</td>\n",
       "      <td>NaN</td>\n",
       "    </tr>\n",
       "    <tr>\n",
       "      <th>1</th>\n",
       "      <td>2023-11-10</td>\n",
       "      <td>2023-05-10</td>\n",
       "      <td>184.0</td>\n",
       "      <td>0.980392</td>\n",
       "      <td>1.000000</td>\n",
       "      <td>0.039674</td>\n",
       "      <td>NaN</td>\n",
       "      <td>NaN</td>\n",
       "      <td>NaN</td>\n",
       "      <td>NaN</td>\n",
       "    </tr>\n",
       "    <tr>\n",
       "      <th>2</th>\n",
       "      <td>2024-05-10</td>\n",
       "      <td>2023-11-10</td>\n",
       "      <td>182.0</td>\n",
       "      <td>0.956422</td>\n",
       "      <td>0.980392</td>\n",
       "      <td>0.050263</td>\n",
       "      <td>25062.656642</td>\n",
       "      <td>23970.468383</td>\n",
       "      <td>24931.506849</td>\n",
       "      <td>23845.033877</td>\n",
       "    </tr>\n",
       "    <tr>\n",
       "      <th>3</th>\n",
       "      <td>2024-11-10</td>\n",
       "      <td>2024-05-10</td>\n",
       "      <td>184.0</td>\n",
       "      <td>0.928370</td>\n",
       "      <td>0.956422</td>\n",
       "      <td>0.059939</td>\n",
       "      <td>30215.627991</td>\n",
       "      <td>28051.294464</td>\n",
       "      <td>25205.479452</td>\n",
       "      <td>23400.020890</td>\n",
       "    </tr>\n",
       "  </tbody>\n",
       "</table>\n",
       "</div>"
      ],
      "text/plain": [
       "        Date   Date_lag  Days_diff        DF    DF_Lag  ForwardRate  \\\n",
       "0 2023-05-10        NaT        NaN  1.000000       NaN          NaN   \n",
       "1 2023-11-10 2023-05-10      184.0  0.980392  1.000000     0.039674   \n",
       "2 2024-05-10 2023-11-10      182.0  0.956422  0.980392     0.050263   \n",
       "3 2024-11-10 2024-05-10      184.0  0.928370  0.956422     0.059939   \n",
       "\n",
       "       CF_float   CF_float_PV      CF_fixed   CF_fixed_PV  \n",
       "0           NaN           NaN           NaN           NaN  \n",
       "1           NaN           NaN           NaN           NaN  \n",
       "2  25062.656642  23970.468383  24931.506849  23845.033877  \n",
       "3  30215.627991  28051.294464  25205.479452  23400.020890  "
      ]
     },
     "execution_count": 36,
     "metadata": {},
     "output_type": "execute_result"
    }
   ],
   "source": [
    "import numpy as np \n",
    "import pandas as pd\n",
    "from datetime import date\n",
    "\n",
    "#원금과 Fixed_rate 설정\n",
    "National = 10000000\n",
    "fixedRate = 0.05\n",
    "\n",
    "# a x b = c 라고 할 때\n",
    "# payoff = a\n",
    "Payoff = np.matrix([[102, 0, 0],\n",
    "                    [2.25,102.25,0], \n",
    "                    [2.5,2.5,102.5]])\n",
    "# price = c\n",
    "price = np.matrix([100., 100., 100.]).reshape((3,1))\n",
    "\n",
    "# 무엇을 곱해야 c가 될까? = DF\n",
    "# b = a^-1 * C\n",
    "DF=Payoff.I * price\n",
    "\n",
    "### 1단계 초기값 완성! ###\n",
    "\n",
    "# 처음 0 기간일 때 DF는 없기 때문에 한칸 삽입\n",
    "DF = np.concatenate((np.matrix([1]), DF), axis=0)\n",
    "\n",
    "# date index 넣기\n",
    "Dates = date(2023,5,10),date(2023,11,10), date(2024,5,10), date(2024,11,10)\n",
    "df = pd.DataFrame(data = DF , columns=['DF'], index=Dates)\n",
    "\n",
    "# Days_diff 구하기\n",
    "df.reset_index(inplace=True)\n",
    "df.rename(columns={'index':'Date'}, inplace=True)\n",
    "df['Date'] = pd.to_datetime(df['Date'])\n",
    "df['Date_lag']=df['Date'].shift(1)\n",
    "df['Days_diff']=(df['Date']-df['Date_lag']).dt.days\n",
    "df = df[['Date', 'Date_lag','Days_diff', 'DF']]\n",
    "\n",
    "# ForwardRate를 위한 DF_Lag 구하기 > ForwardRate까지\n",
    "df['DF_Lag'] = df['DF'].shift(1)\n",
    "df['ForwardRate'] = (365/df['Days_diff'])*(df['DF_Lag']/df['DF']-1)\n",
    "\n",
    "### 2단계 Forward Rate까지 완성! ###\n",
    "\n",
    "\n",
    "# 변동금리 구하기 Cash_flow\n",
    "CF = [np.nan, np.nan]\n",
    "for i in range(2,4):\n",
    "    CF.append(Notional* df.loc[i,'ForwardRate']*df.loc[i,'Days_diff']/365)\n",
    "df['CF_float']=CF\n",
    "df['CF_float_PV']=df['CF_float']*df['DF']\n",
    "\n",
    "\n",
    "# 고정금리 구하기 Cash_flow\n",
    "CF = [np.nan, np.nan]\n",
    "for i in range(2,4):\n",
    "    CF.append(Notional* fixedRate*df.loc[i,'Days_diff']/365)\n",
    "df['CF_fixed']=CF\n",
    "df['CF_fixed_PV']=df['CF_fixed']*df['DF']\n",
    "\n",
    "\n",
    "# 수취 및 지불 구현하기\n",
    "Receive = df.loc[2:3,'CF_fixed_PV'].sum()\n",
    "Pay = df.loc[2:3,'CF_float_PV'].sum()\n",
    "print(Receive-Pay)\n",
    "df"
   ]
  },
  {
   "cell_type": "markdown",
   "id": "6ad06a9e-4c4e-4224-8460-c6dd16253f34",
   "metadata": {},
   "source": [
    "---\n",
    "## Compounded SOFR\n",
    "- **source**: 스왑 실무 가이드 by 정창영, pp.67-69."
   ]
  },
  {
   "cell_type": "markdown",
   "id": "87560c33-6822-45d2-9896-7c215b8d18ae",
   "metadata": {},
   "source": [
    "- 이자계산 기간 동안 고시되는 일별 SOFR 이자를 compounding 하여 연율로 표시\n",
    "- 초일산입/말일불산입 원칙 적용\n",
    "- Compounding 기본식\n",
    "$$ \\left[ \\prod_{i=1}^{d_0} \\left( 1+ \\frac{r_i \\times n_i}{\\text{Day Count Basis}} \\right) -1\\right] \\times \\frac{\\text{Day Count Basis}}{d}$$\n",
    "    - $r_i$: underlying benchmark level at day $i$\n",
    "    - $n_i$: SOFR 이자율이 고시되지 않는 날을 고려하여 해당 날 수($n_i$) 만큼 $r_i$를 적용"
   ]
  },
  {
   "cell_type": "markdown",
   "id": "cb59b80d-34d2-4e5d-b215-c8774ded0f9f",
   "metadata": {},
   "source": [
    "**Example**: 2022년 10월 8일부터 10월 16일까지"
   ]
  },
  {
   "cell_type": "markdown",
   "id": "6b21daee-ee24-46fc-9d99-9eb63a3e612c",
   "metadata": {},
   "source": [
    "<img src=\"https://raw.github.com/zara2k/lecture/master/Swap_Fig07_SOFR_example_calendar.png\" width=500>"
   ]
  },
  {
   "cell_type": "markdown",
   "id": "0c73b927-1e81-486e-8365-4929d81bab33",
   "metadata": {},
   "source": [
    "- 8일~10일: 이자계산 초일이 영업일이 아니므로 전 영업일 SOFR 금리를 적용\n",
    "$$1+ \\frac{0.11 \\% \\times 3}{360}$$\n",
    "- 11일 (영업일)\n",
    "$$1+ \\frac{0.12 \\% }{360}$$\n",
    "- 12일 (영업일)\n",
    "$$1+ \\frac{0.13 \\% }{360}$$\n",
    "- 13일 (영업일)\n",
    "$$1+ \\frac{0.14 \\% }{360}$$\n",
    "- 14일~16일: 이자계산 종료일인 16일은 초일산입/말일불산입에 따라 제외\n",
    "$$1+ \\frac{0.15 \\% \\times 2}{360}$$"
   ]
  },
  {
   "cell_type": "code",
   "execution_count": 1,
   "id": "3413c6e9-4502-4bb3-8df9-9c0f0cd8a947",
   "metadata": {},
   "outputs": [
    {
     "name": "stdout",
     "output_type": "stream",
     "text": [
      "5\n",
      "0.1275%\n"
     ]
    }
   ],
   "source": [
    "import numpy as np\n",
    "r = np.array([0.11, 0.12, 0.13, 0.14, 0.15])\n",
    "n = np.array([   3,    1,    1,    1,    2])\n",
    "\n",
    "d = r.shape[0]\n",
    "\n",
    "\n",
    "CompoundedSOFR = 1\n",
    "for i in range(d):\n",
    "    CompoundedSOFR*=(1+ r[i]/100*n[i]/360)\n",
    "    \n",
    "CompoundedSOFR -= 1\n",
    "CompoundedSOFR = CompoundedSOFR*360/sum(n)\n",
    "print(f\"{CompoundedSOFR*100:.5}%\")"
   ]
  },
  {
   "cell_type": "markdown",
   "id": "9327ee73-167a-4c7a-b156-c7f7b718263b",
   "metadata": {},
   "source": [
    "---\n",
    "- 용어 \n",
    "    1. Trade Date : FRA 계약일\n",
    "    1. Contract Amount : 예금/차입하려는 금액, 원금\n",
    "    1. Fixing Date : 변동금리 결정되는 날짜, Settlement Date의 2영업일 전\n",
    "    1. Fixing Rate : 결정된 변동금리 \n",
    "    1. Settlement Date : FRA 계약이 시작되는 날짜(또는 명목상의 예금/대출이 시작되는 날짜), 현금결제 금액을 정산하는 날짜\n",
    "    1. Maturity Date : 명목상 예금/대출의 만기일 \n",
    "    1. Contract Rate : FRA 계약금리 \n",
    "    1. Contract Period : FRA 계약기간,  Settlement Date 와 Maturity Date  사이의 기간 "
   ]
  },
  {
   "cell_type": "markdown",
   "id": "df99d66d-169d-400a-bae9-3ef08c1f7b2f",
   "metadata": {},
   "source": [
    "<img src=\"https://raw.github.com/zara2k/lecture/master/FRA_Fig02_2by8.png\" width=500>"
   ]
  },
  {
   "cell_type": "markdown",
   "id": "7c97997f-90e2-4395-a759-68392ef9fcc6",
   "metadata": {},
   "source": [
    "---\n",
    "**Example) FRA Libor**\n",
    "- 증권회사 C는 1x4 USD FRA의 가격이 2.3%-2.4%일 때 고객에게 FRA 매도\n",
    "- 계약상세\n",
    "    - Notional : USD 10m\n",
    "    - Trade Date : 2023.3.28.\n",
    "    - Fixing Date : 2023.4.28.\n",
    "    - Settlement Date : 2023.4.30.\n",
    "    - Maturity Date : 2023.7.30.\n",
    "- 만약 4월 28일 fixing rate이 2.5%라면 C의 결제금액은?\n",
    "    - C는 market maker이고 FRA 매도 거래를 하였으므로 Contract Rate은 2.4%\n",
    "    - 3m Libor가 2.5%이므로 2.5%지급, 2.4% 수취. 즉 0.1% 고객에게 지급 \n",
    "    - Maturity Date(2023.7.30) 결제금액은 USD 10m x 0.001 x 91/360 = USD 2,527.78\n",
    "    - Settlement Date에 결제하는것이 관행이므로 2.5%로 91일 동안 할인한  USD 2,511.90을 Settlement Date(2023.4.30.)에 지급 "
   ]
  },
  {
   "cell_type": "code",
   "execution_count": 1,
   "id": "f4eb7db5-3f30-4639-8743-fdaa5a804e80",
   "metadata": {},
   "outputs": [
    {
     "data": {
      "text/plain": [
       "datetime.timedelta(days=91)"
      ]
     },
     "execution_count": 1,
     "metadata": {},
     "output_type": "execute_result"
    }
   ],
   "source": [
    "import datetime\n",
    "datetime.date(2023,7,30)-datetime.date(2023,4,30)"
   ]
  },
  {
   "cell_type": "code",
   "execution_count": 4,
   "id": "b9762c7c-280b-4660-8e16-e8676582b4de",
   "metadata": {},
   "outputs": [
    {
     "data": {
      "text/plain": [
       "2527.777777777778"
      ]
     },
     "execution_count": 4,
     "metadata": {},
     "output_type": "execute_result"
    }
   ],
   "source": [
    "10000000 * 0.001 * 91/360 "
   ]
  },
  {
   "cell_type": "code",
   "execution_count": 5,
   "id": "94c6d115-ffe2-415a-b89c-2df3e7167998",
   "metadata": {},
   "outputs": [
    {
     "data": {
      "text/plain": [
       "2511.9039403767856"
      ]
     },
     "execution_count": 5,
     "metadata": {},
     "output_type": "execute_result"
    }
   ],
   "source": [
    "10000000 * 0.001 * 91/360 /(1+0.025*91/360)"
   ]
  },
  {
   "cell_type": "markdown",
   "id": "4fec987f-f114-4087-bb27-8e6119223988",
   "metadata": {},
   "source": [
    "---\n",
    "**Pricing of FRN**"
   ]
  },
  {
   "cell_type": "markdown",
   "id": "9b6af1c6-f6a1-4cdf-9355-db0f914db84e",
   "metadata": {},
   "source": [
    "- FRN이 발행되는 시점에서 미래에 지급될 이자를 모르기때문에 가격계산이 어려울 듯이 보이나 실상은 그렇지 않음.\n",
    "- 쿠폰이자율이 시장이자율에 따라 변동하기 때문에 가격은 항상 par에 가깝게 됨.\n",
    "- 6개월마다 6m CD 지급하는 2년만기 FRN"
   ]
  },
  {
   "cell_type": "markdown",
   "id": "51d9c55f-7750-4675-81b9-75ece870c679",
   "metadata": {},
   "source": [
    "<img src=\"https://raw.github.com/zara2k/lecture/master/FRN_Fig01_pricing.png\" width=500>"
   ]
  },
  {
   "cell_type": "markdown",
   "id": "650eb142-e9f8-4ae2-baa5-fa8e6d7de029",
   "metadata": {},
   "source": [
    "- 만기 6개월 전인 1.5 시점에서의 ex-coupon FRN의 가치\n",
    "$$\\frac{100 \\left(1+i_{1.5} \\times \\frac{days}{365}\\right)}{1+i_{1.5} \\times \\frac{days}{365}}=100$$\n",
    "- 만기 1년 전인 1.0 시점에서의 ex-coupon FRN의 가치\n",
    "$$\\frac{100 \\left(1+i_{1.0} \\times \\frac{days}{365}\\right)}{1+i_{1.0} \\times \\frac{days}{365}}=100$$\n",
    "- 이렇게 계속 하면 reset date에서의 FRN의 가치는 항상 par value, 즉, 100이 됨\n",
    "- reset dates $t_a$, $t_b$ 의 중간시점 t에서의 FRN 가치는, (아래에서 $i_t$는 $t$시점의 LIBOR 금리, num는 $t$시점과 $t_b$ 시점 사이의 날짜 수\n",
    "$$\\frac{100 \\left(1+i_{a} \\times \\frac{days}{365}\\right)}{1+i_{t} \\times \\frac{num}{365}}=100$$"
   ]
  },
  {
   "cell_type": "markdown",
   "id": "5b1904a8-c7e6-4041-ae02-49e2e77551ee",
   "metadata": {},
   "source": [
    "---"
   ]
  },
  {
   "cell_type": "markdown",
   "id": "b9b47bb4-636b-4b20-b01e-0b2a9464ec59",
   "metadata": {},
   "source": [
    "- **FX forward contracts** : Agreements to buy and sell foreign currencies in the future at prices, $F_{0,t}$, agreed upon today (at time $0$)\n",
    "- **Covered Interest Parity (CIP)** : Under no-arbitrage condition, the fair forward FX rate is (with European quote)\n",
    "\\begin{eqnarray}\n",
    "F_{0,t} &=& S_0 \\left( \\frac{1+r_{KRW} \\times t}{1+r_{USD} \\times t} \\right)\\\\\n",
    "&=& 1000 \\left( \\frac{1+0.071 \\times 1}{1+0.02 \\times 1} \\right) = 1,050 (KRW/USD)\n",
    "\\end{eqnarray}"
   ]
  },
  {
   "cell_type": "markdown",
   "id": "dc7c816b-4a42-4679-a27f-d34feb458dc4",
   "metadata": {},
   "source": [
    "<img src=\"https://raw.github.com/zara2k/lecture/master/FxSwap_Fig02_CIP.bmp\" width=500>"
   ]
  },
  {
   "cell_type": "markdown",
   "id": "cc37cc72-7653-4c9b-b45e-bc5b5f826811",
   "metadata": {},
   "source": [
    "---\n",
    "**Example**\n",
    "- 미국계 A은행이 한국 B은행과 현물환율 1,200원, 1년 선도환율 1217.96원에 1백만달러의 현물환매도/선물환매입(sell & buy)    \n",
    "- 최초 거래시점에서 A은행은 B은행에 1백만달러를 지급하는 대가로 12억원(1200원x 1 백만달러)을 수취\n",
    "- 이후 만기시점에서 A은행은 B은행으로부터 1백만달러를 돌려 받고 원화 12.1796억원(1217.96원 x 1백만달러)을 상환함으로써 거래가 종결\n",
    "- 이 경우 A은행은 단기적으로 부족한 원화유동성을, B은행은 외화유동성을 각각 확보"
   ]
  },
  {
   "cell_type": "markdown",
   "id": "91c3f64c-c97c-4aa4-904f-175c70320918",
   "metadata": {},
   "source": [
    "- Sell & Buy FX Swap\n",
    "\n",
    ".|.\n",
    "---|---\n",
    "현물환율($S_0$) | KRW/USD 1,200.0\n",
    "USD 1년 이자율 | 3.55%, A/360\n",
    "KRW 1년 이자율 | 5.15%, A/365F\n",
    "1년 선도환율($F_{0,1}$)| KRW/USD 1,217.96(이론가격=시장가격)"
   ]
  },
  {
   "cell_type": "code",
   "execution_count": 7,
   "id": "5e9418a8-f884-44ae-a827-90d7f80a8451",
   "metadata": {},
   "outputs": [
    {
     "data": {
      "text/plain": [
       "1217.961832112238"
      ]
     },
     "execution_count": 7,
     "metadata": {},
     "output_type": "execute_result"
    }
   ],
   "source": [
    "1200 * (1+0.0515 * 365/365)/(1+0.0355 * 365/360)"
   ]
  },
  {
   "cell_type": "markdown",
   "id": "9ad54006-5078-45e7-af42-530f227b8e9c",
   "metadata": {},
   "source": [
    "---"
   ]
  },
  {
   "cell_type": "markdown",
   "id": "13a7f48e-759c-46ec-86a6-093e4ac8ac3a",
   "metadata": {},
   "source": [
    "- Position 관련 용어\n",
    "    - Buyer = fixed rate payer = long a swap = shorting the bond\n",
    "    - Seller = floating rate payer = shorting a swap = long a bond"
   ]
  },
  {
   "cell_type": "markdown",
   "id": "d3cd2161-5e82-4e9c-ad27-293ad155667c",
   "metadata": {},
   "source": [
    "---"
   ]
  },
  {
   "cell_type": "code",
   "execution_count": null,
   "id": "abe08a16-54b2-4ddb-9ceb-109dee4a720a",
   "metadata": {},
   "outputs": [],
   "source": []
  },
  {
   "cell_type": "code",
   "execution_count": null,
   "id": "fb109e75-1b3d-46f5-99f1-6cbeeae1848e",
   "metadata": {},
   "outputs": [],
   "source": []
  },
  {
   "cell_type": "code",
   "execution_count": null,
   "id": "5b3b3e69-0f24-43f1-8be3-1fc1d00742ed",
   "metadata": {},
   "outputs": [],
   "source": []
  },
  {
   "cell_type": "code",
   "execution_count": 36,
   "id": "889afe89-5c7a-46fb-8baa-cc00fd5275e5",
   "metadata": {},
   "outputs": [
    {
     "name": "stdout",
     "output_type": "stream",
     "text": [
      "-4776.708079274707\n"
     ]
    },
    {
     "data": {
      "text/html": [
       "<div>\n",
       "<style scoped>\n",
       "    .dataframe tbody tr th:only-of-type {\n",
       "        vertical-align: middle;\n",
       "    }\n",
       "\n",
       "    .dataframe tbody tr th {\n",
       "        vertical-align: top;\n",
       "    }\n",
       "\n",
       "    .dataframe thead th {\n",
       "        text-align: right;\n",
       "    }\n",
       "</style>\n",
       "<table border=\"1\" class=\"dataframe\">\n",
       "  <thead>\n",
       "    <tr style=\"text-align: right;\">\n",
       "      <th></th>\n",
       "      <th>Date</th>\n",
       "      <th>Date_lag</th>\n",
       "      <th>Days_diff</th>\n",
       "      <th>DF</th>\n",
       "      <th>DF_Lag</th>\n",
       "      <th>ForwardRate</th>\n",
       "      <th>CF_float</th>\n",
       "      <th>CF_float_PV</th>\n",
       "      <th>CF_fixed</th>\n",
       "      <th>CF_fixed_PV</th>\n",
       "    </tr>\n",
       "  </thead>\n",
       "  <tbody>\n",
       "    <tr>\n",
       "      <th>0</th>\n",
       "      <td>2023-05-10</td>\n",
       "      <td>NaT</td>\n",
       "      <td>NaN</td>\n",
       "      <td>1.000000</td>\n",
       "      <td>NaN</td>\n",
       "      <td>NaN</td>\n",
       "      <td>NaN</td>\n",
       "      <td>NaN</td>\n",
       "      <td>NaN</td>\n",
       "      <td>NaN</td>\n",
       "    </tr>\n",
       "    <tr>\n",
       "      <th>1</th>\n",
       "      <td>2023-11-10</td>\n",
       "      <td>2023-05-10</td>\n",
       "      <td>184.0</td>\n",
       "      <td>0.980392</td>\n",
       "      <td>1.000000</td>\n",
       "      <td>0.039674</td>\n",
       "      <td>NaN</td>\n",
       "      <td>NaN</td>\n",
       "      <td>NaN</td>\n",
       "      <td>NaN</td>\n",
       "    </tr>\n",
       "    <tr>\n",
       "      <th>2</th>\n",
       "      <td>2024-05-10</td>\n",
       "      <td>2023-11-10</td>\n",
       "      <td>182.0</td>\n",
       "      <td>0.956422</td>\n",
       "      <td>0.980392</td>\n",
       "      <td>0.050263</td>\n",
       "      <td>25062.656642</td>\n",
       "      <td>23970.468383</td>\n",
       "      <td>24931.506849</td>\n",
       "      <td>23845.033877</td>\n",
       "    </tr>\n",
       "    <tr>\n",
       "      <th>3</th>\n",
       "      <td>2024-11-10</td>\n",
       "      <td>2024-05-10</td>\n",
       "      <td>184.0</td>\n",
       "      <td>0.928370</td>\n",
       "      <td>0.956422</td>\n",
       "      <td>0.059939</td>\n",
       "      <td>30215.627991</td>\n",
       "      <td>28051.294464</td>\n",
       "      <td>25205.479452</td>\n",
       "      <td>23400.020890</td>\n",
       "    </tr>\n",
       "  </tbody>\n",
       "</table>\n",
       "</div>"
      ],
      "text/plain": [
       "        Date   Date_lag  Days_diff        DF    DF_Lag  ForwardRate  \\\n",
       "0 2023-05-10        NaT        NaN  1.000000       NaN          NaN   \n",
       "1 2023-11-10 2023-05-10      184.0  0.980392  1.000000     0.039674   \n",
       "2 2024-05-10 2023-11-10      182.0  0.956422  0.980392     0.050263   \n",
       "3 2024-11-10 2024-05-10      184.0  0.928370  0.956422     0.059939   \n",
       "\n",
       "       CF_float   CF_float_PV      CF_fixed   CF_fixed_PV  \n",
       "0           NaN           NaN           NaN           NaN  \n",
       "1           NaN           NaN           NaN           NaN  \n",
       "2  25062.656642  23970.468383  24931.506849  23845.033877  \n",
       "3  30215.627991  28051.294464  25205.479452  23400.020890  "
      ]
     },
     "execution_count": 36,
     "metadata": {},
     "output_type": "execute_result"
    }
   ],
   "source": [
    "import numpy as np \n",
    "import pandas as pd\n",
    "from datetime import date\n",
    "\n",
    "#원금과 Fixed_rate 설정\n",
    "National = 10000000\n",
    "fixedRate = 0.05\n",
    "\n",
    "# a x b = c 라고 할 때\n",
    "# payoff = a\n",
    "Payoff = np.matrix([[102, 0, 0],\n",
    "                    [2.25,102.25,0], \n",
    "                    [2.5,2.5,102.5]])\n",
    "# price = c\n",
    "price = np.matrix([100., 100., 100.]).reshape((3,1))\n",
    "\n",
    "# 무엇을 곱해야 c가 될까? = DF\n",
    "# b = a^-1 * C\n",
    "DF=Payoff.I * price\n",
    "\n",
    "### 1단계 초기값 완성! ###\n",
    "\n",
    "# 처음 0 기간일 때 DF는 없기 때문에 한칸 삽입\n",
    "DF = np.concatenate((np.matrix([1]), DF), axis=0)\n",
    "\n",
    "# date index 넣기\n",
    "Dates = date(2023,5,10),date(2023,11,10), date(2024,5,10), date(2024,11,10)\n",
    "df = pd.DataFrame(data = DF , columns=['DF'], index=Dates)\n",
    "\n",
    "# Days_diff 구하기\n",
    "df.reset_index(inplace=True)\n",
    "df.rename(columns={'index':'Date'}, inplace=True)\n",
    "df['Date'] = pd.to_datetime(df['Date'])\n",
    "df['Date_lag']=df['Date'].shift(1)\n",
    "df['Days_diff']=(df['Date']-df['Date_lag']).dt.days\n",
    "df = df[['Date', 'Date_lag','Days_diff', 'DF']]\n",
    "\n",
    "# ForwardRate를 위한 DF_Lag 구하기 > ForwardRate까지\n",
    "df['DF_Lag'] = df['DF'].shift(1)\n",
    "df['ForwardRate'] = (365/df['Days_diff'])*(df['DF_Lag']/df['DF']-1)\n",
    "\n",
    "### 2단계 Forward Rate까지 완성! ###\n",
    "\n",
    "\n",
    "# 변동금리 구하기 Cash_flow\n",
    "CF = [np.nan, np.nan]\n",
    "for i in range(2,4):\n",
    "    CF.append(Notional* df.loc[i,'ForwardRate']*df.loc[i,'Days_diff']/365)\n",
    "df['CF_float']=CF\n",
    "df['CF_float_PV']=df['CF_float']*df['DF']\n",
    "\n",
    "\n",
    "# 고정금리 구하기 Cash_flow\n",
    "CF = [np.nan, np.nan]\n",
    "for i in range(2,4):\n",
    "    CF.append(Notional* fixedRate*df.loc[i,'Days_diff']/365)\n",
    "df['CF_fixed']=CF\n",
    "df['CF_fixed_PV']=df['CF_fixed']*df['DF']\n",
    "\n",
    "\n",
    "# 수취 및 지불 구현하기\n",
    "Receive = df.loc[2:3,'CF_fixed_PV'].sum()\n",
    "Pay = df.loc[2:3,'CF_float_PV'].sum()\n",
    "print(Receive-Pay)\n",
    "df"
   ]
  },
  {
   "cell_type": "code",
   "execution_count": null,
   "id": "b3686926-979c-40d4-9f4f-93b625415161",
   "metadata": {},
   "outputs": [],
   "source": []
  }
 ],
 "metadata": {
  "kernelspec": {
   "display_name": "Python 3 (ipykernel)",
   "language": "python",
   "name": "python3"
  },
  "language_info": {
   "codemirror_mode": {
    "name": "ipython",
    "version": 3
   },
   "file_extension": ".py",
   "mimetype": "text/x-python",
   "name": "python",
   "nbconvert_exporter": "python",
   "pygments_lexer": "ipython3",
   "version": "3.11.7"
  }
 },
 "nbformat": 4,
 "nbformat_minor": 5
}
